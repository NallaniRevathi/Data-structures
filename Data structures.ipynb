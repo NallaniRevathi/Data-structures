{
 "cells": [
  {
   "cell_type": "markdown",
   "id": "f8ec5f6e",
   "metadata": {},
   "source": [
    "# 1.Discuss string slicing and provide examples"
   ]
  },
  {
   "cell_type": "markdown",
   "id": "c5c9de48",
   "metadata": {},
   "source": [
    "String slicing is a powerful feature in many programming languages, including Python, that allows you to extract substrings from a given string. It involves specifying a start index, an end index, and an optional step value to create a new substring."
   ]
  },
  {
   "cell_type": "code",
   "execution_count": 4,
   "id": "a592307d",
   "metadata": {},
   "outputs": [
    {
     "name": "stdout",
     "output_type": "stream",
     "text": [
      "World!\n"
     ]
    }
   ],
   "source": [
    "#string[start:end:step]\n",
    "text = \"Hello World!\"\n",
    "substring = text[6:12]\n",
    "print(substring)"
   ]
  },
  {
   "cell_type": "code",
   "execution_count": 5,
   "id": "5e312cb0",
   "metadata": {},
   "outputs": [
    {
     "name": "stdout",
     "output_type": "stream",
     "text": [
      "Hlo ol!\n"
     ]
    }
   ],
   "source": [
    "text = \"Hello, World!\"\n",
    "substring = text[::2]\n",
    "print(substring)"
   ]
  },
  {
   "cell_type": "markdown",
   "id": "7b47d1df",
   "metadata": {},
   "source": [
    "# 2.Explain the key features of lists in Python"
   ]
  },
  {
   "cell_type": "markdown",
   "id": "6ae2e067",
   "metadata": {},
   "source": [
    "Lists in Python are versatile and essential data structures used to store collections of items.\n",
    "1.Order collection:Lists maintain the order of elements as they are inserted. The first item in the list has index 0, the second item has index 1\n",
    "2.Mutable:Lists are mutable,you can change, add, or remove elements after the list has been created.\n",
    "3.Dynamic sizing:Lists can grow or shrink in size as needed. You can append new elements or remove existing ones.\n",
    "4.Duplicate elements:Lists can contain duplicate values. Each element is treated as distinct, even if it has the same value as another element.\n",
    "5.Heterogeneous Elements:Lists can contain elements of different types. For example, a list can include integers, strings, other lists, and more.\n",
    "6.Index access:You can access individual elements by their index. Negative indices are also supported, where -1 refers to the last element, -2 to the second last.\n",
    "7.Slicing:Lists support slicing, allowing you to extract a part of the list using a range of indices.\n",
    "8.List Operations :Lists come with a variety of built-in methods and operations, such as appending, inserting, removing elements, sorting, and more.\n",
    "\n"
   ]
  },
  {
   "cell_type": "code",
   "execution_count": 6,
   "id": "3001d41c",
   "metadata": {},
   "outputs": [
    {
     "name": "stdout",
     "output_type": "stream",
     "text": [
      "[1, 2, 3, 4]\n"
     ]
    }
   ],
   "source": [
    "my_list = [1, 2, 3]\n",
    "my_list.append(4)\n",
    "print(my_list) "
   ]
  },
  {
   "cell_type": "code",
   "execution_count": 7,
   "id": "1b44eb0a",
   "metadata": {},
   "outputs": [
    {
     "name": "stdout",
     "output_type": "stream",
     "text": [
      "[1, 'a', 2, 3]\n"
     ]
    }
   ],
   "source": [
    "my_list = [1, 2, 3]\n",
    "my_list.insert(1, 'a')\n",
    "print(my_list)"
   ]
  },
  {
   "cell_type": "code",
   "execution_count": 8,
   "id": "eafba87a",
   "metadata": {},
   "outputs": [
    {
     "name": "stdout",
     "output_type": "stream",
     "text": [
      "[1, 3, 2]\n"
     ]
    }
   ],
   "source": [
    "my_list = [1, 2, 3, 2]\n",
    "my_list.remove(2)\n",
    "print(my_list)"
   ]
  },
  {
   "cell_type": "markdown",
   "id": "6e218c5e",
   "metadata": {},
   "source": [
    "# 3.Describe how to access, modify, and delete elements in a list with example"
   ]
  },
  {
   "cell_type": "markdown",
   "id": "3ba03c8c",
   "metadata": {},
   "source": [
    "Accessing elements:To access elements in a list, you use indexing. Indexes start at 0 for the first element, 1 for the second, and so on. You can also use negative indexing to access elements from the end of the list, with -1 being the last element, -2 the second last"
   ]
  },
  {
   "cell_type": "code",
   "execution_count": 9,
   "id": "9743d892",
   "metadata": {},
   "outputs": [
    {
     "name": "stdout",
     "output_type": "stream",
     "text": [
      "10\n",
      "40\n",
      "50\n"
     ]
    }
   ],
   "source": [
    "my_list = [10, 20, 30, 40, 50]\n",
    "print(my_list[0])  \n",
    "print(my_list[3])\n",
    "print(my_list[-1])"
   ]
  },
  {
   "cell_type": "markdown",
   "id": "ed9e7b34",
   "metadata": {},
   "source": [
    "Modifying elements:you can modify elements in a list by accessing them via their index and assigning a new value."
   ]
  },
  {
   "cell_type": "code",
   "execution_count": 10,
   "id": "ca365ea8",
   "metadata": {},
   "outputs": [
    {
     "name": "stdout",
     "output_type": "stream",
     "text": [
      "[10, 25, 30, 40, 50]\n"
     ]
    }
   ],
   "source": [
    "my_list = [10, 20, 30, 40, 50]\n",
    "my_list[1] = 25\n",
    "print(my_list)"
   ]
  },
  {
   "cell_type": "code",
   "execution_count": 11,
   "id": "547a5ba9",
   "metadata": {},
   "outputs": [
    {
     "name": "stdout",
     "output_type": "stream",
     "text": [
      "[10, 25, 30, 45, 50]\n"
     ]
    }
   ],
   "source": [
    "my_list[-2] = 45\n",
    "print(my_list) "
   ]
  },
  {
   "cell_type": "markdown",
   "id": "b32ddec2",
   "metadata": {},
   "source": [
    "Deleting elements:You can delete elements from a list using several methods: del, remove(), and pop()."
   ]
  },
  {
   "cell_type": "code",
   "execution_count": 12,
   "id": "03658571",
   "metadata": {},
   "outputs": [
    {
     "name": "stdout",
     "output_type": "stream",
     "text": [
      "[10, 20, 40, 50]\n"
     ]
    }
   ],
   "source": [
    "my_list = [10, 20, 30, 40, 50]\n",
    "del my_list[2]\n",
    "print(my_list)"
   ]
  },
  {
   "cell_type": "code",
   "execution_count": 13,
   "id": "af684440",
   "metadata": {},
   "outputs": [
    {
     "name": "stdout",
     "output_type": "stream",
     "text": [
      "[10, 30, 40, 50]\n"
     ]
    }
   ],
   "source": [
    "my_list = [10, 20, 30, 40, 50]\n",
    "my_list.remove(20)\n",
    "print(my_list) "
   ]
  },
  {
   "cell_type": "code",
   "execution_count": 14,
   "id": "845b7950",
   "metadata": {},
   "outputs": [
    {
     "name": "stdout",
     "output_type": "stream",
     "text": [
      "[10, 20, 30, 40]\n"
     ]
    }
   ],
   "source": [
    "my_list = [10, 20, 30, 40, 50]\n",
    "my_list.pop()\n",
    "print(my_list) "
   ]
  },
  {
   "cell_type": "markdown",
   "id": "29d8d6f4",
   "metadata": {},
   "source": [
    "# 4.Compare and contrast tuples and lists with examples"
   ]
  },
  {
   "cell_type": "markdown",
   "id": "85a45887",
   "metadata": {},
   "source": [
    "Tuples and lists are both sequence data types in Python, but they have key differences in terms of mutability, syntax, and use cases."
   ]
  },
  {
   "cell_type": "code",
   "execution_count": 15,
   "id": "81eb44f4",
   "metadata": {},
   "outputs": [],
   "source": [
    "#Lists: Defined using square brackets [].\n",
    "my_list = [1, 2, 3, 4]\n",
    "#Tuples: Defined using parentheses ().\n",
    "my_tuple = (1, 2, 3, 4)"
   ]
  },
  {
   "cell_type": "code",
   "execution_count": 18,
   "id": "62daabe1",
   "metadata": {},
   "outputs": [
    {
     "name": "stdout",
     "output_type": "stream",
     "text": [
      "[1, 20, 4, 2]\n"
     ]
    }
   ],
   "source": [
    "#Lists: Mutable, meaning you can change, add, or remove elements after the list is created.\n",
    "my_list = [1, 2, 3,4]\n",
    "my_list[1] = 20          # Modify element\n",
    "my_list.append(2)       # Add element\n",
    "my_list.remove(3)       # Remove element\n",
    "print(my_list) "
   ]
  },
  {
   "cell_type": "code",
   "execution_count": 19,
   "id": "4b4464b7",
   "metadata": {},
   "outputs": [
    {
     "ename": "TypeError",
     "evalue": "'tuple' object does not support item assignment",
     "output_type": "error",
     "traceback": [
      "\u001b[1;31m---------------------------------------------------------------------------\u001b[0m",
      "\u001b[1;31mTypeError\u001b[0m                                 Traceback (most recent call last)",
      "\u001b[1;32m~\\AppData\\Local\\Temp\\ipykernel_15232\\2232731649.py\u001b[0m in \u001b[0;36m<module>\u001b[1;34m\u001b[0m\n\u001b[0;32m      1\u001b[0m \u001b[1;31m#Tuples: Immutable, meaning once created, you cannot change, add, or remove elements.\u001b[0m\u001b[1;33m\u001b[0m\u001b[1;33m\u001b[0m\u001b[0m\n\u001b[0;32m      2\u001b[0m \u001b[0mmy_tuple\u001b[0m \u001b[1;33m=\u001b[0m \u001b[1;33m(\u001b[0m\u001b[1;36m1\u001b[0m\u001b[1;33m,\u001b[0m \u001b[1;36m2\u001b[0m\u001b[1;33m,\u001b[0m \u001b[1;36m3\u001b[0m\u001b[1;33m)\u001b[0m\u001b[1;33m\u001b[0m\u001b[1;33m\u001b[0m\u001b[0m\n\u001b[1;32m----> 3\u001b[1;33m \u001b[0mmy_tuple\u001b[0m\u001b[1;33m[\u001b[0m\u001b[1;36m1\u001b[0m\u001b[1;33m]\u001b[0m \u001b[1;33m=\u001b[0m \u001b[1;36m20\u001b[0m    \u001b[1;31m#will raise an error\u001b[0m\u001b[1;33m\u001b[0m\u001b[1;33m\u001b[0m\u001b[0m\n\u001b[0m\u001b[0;32m      4\u001b[0m \u001b[1;31m#my_tuple.append(4) will raise an error\u001b[0m\u001b[1;33m\u001b[0m\u001b[1;33m\u001b[0m\u001b[0m\n\u001b[0;32m      5\u001b[0m \u001b[1;31m#my_tuple.remove(2)  will raise an error\u001b[0m\u001b[1;33m\u001b[0m\u001b[1;33m\u001b[0m\u001b[0m\n",
      "\u001b[1;31mTypeError\u001b[0m: 'tuple' object does not support item assignment"
     ]
    }
   ],
   "source": [
    "#Tuples: Immutable, meaning once created, you cannot change, add, or remove elements.\n",
    "my_tuple = (1, 2, 3)\n",
    "my_tuple[1] = 20    #will raise an error\n",
    "#my_tuple.append(4) will raise an error\n",
    "#my_tuple.remove(2)  will raise an error"
   ]
  },
  {
   "cell_type": "markdown",
   "id": "9a7f5a50",
   "metadata": {},
   "source": [
    "Lists: Generally have slightly more overhead compared to tuples because they are mutable and need to manage the dynamic nature of their size.\n",
    "\n",
    "Tuples: Typically have better performance for iteration and access because they are immutable and of a fixed size. The immutability allows for optimization."
   ]
  },
  {
   "cell_type": "code",
   "execution_count": 21,
   "id": "f9c5e7c7",
   "metadata": {},
   "outputs": [],
   "source": [
    "shopping_list = ['milk', 'eggs', 'bread']  # A collection of items that may be modified\n",
    "shopping_list.append('butter') \n",
    "coordinates = (10.0, 20.0)  # Fixed set of values, suitable for representing a point"
   ]
  },
  {
   "cell_type": "markdown",
   "id": "8c59a48c",
   "metadata": {},
   "source": [
    "Lists: Have various methods such as append(), extend(), insert(), remove(), pop(), and sort(). Lists also support indexing, slicing, and concatenation.\n",
    "Tuples: Have fewer methods; primarily count() and index(). Tuples support indexing, slicing, and concatenation."
   ]
  },
  {
   "cell_type": "code",
   "execution_count": 22,
   "id": "605dad02",
   "metadata": {},
   "outputs": [
    {
     "name": "stdout",
     "output_type": "stream",
     "text": [
      "apple\n",
      "[1, 2, 3, 'banana', 'cherry']\n"
     ]
    }
   ],
   "source": [
    "#examples of lists\n",
    "my_list = [1, 2, 3, 'apple', 'banana']\n",
    "print(my_list[3]) \n",
    "my_list.append('cherry')\n",
    "my_list.remove('apple')\n",
    "print(my_list)"
   ]
  },
  {
   "cell_type": "code",
   "execution_count": 23,
   "id": "5d9d73f5",
   "metadata": {},
   "outputs": [
    {
     "name": "stdout",
     "output_type": "stream",
     "text": [
      "apple\n"
     ]
    }
   ],
   "source": [
    "#example of tuples\n",
    "my_tuple = (1, 2, 3, 'apple', 'banana')\n",
    "print(my_tuple[3])"
   ]
  },
  {
   "cell_type": "code",
   "execution_count": 24,
   "id": "c4f0fabe",
   "metadata": {},
   "outputs": [
    {
     "ename": "TypeError",
     "evalue": "'tuple' object does not support item assignment",
     "output_type": "error",
     "traceback": [
      "\u001b[1;31m---------------------------------------------------------------------------\u001b[0m",
      "\u001b[1;31mTypeError\u001b[0m                                 Traceback (most recent call last)",
      "\u001b[1;32m~\\AppData\\Local\\Temp\\ipykernel_15232\\3194314768.py\u001b[0m in \u001b[0;36m<module>\u001b[1;34m\u001b[0m\n\u001b[1;32m----> 1\u001b[1;33m \u001b[0mmy_tuple\u001b[0m\u001b[1;33m[\u001b[0m\u001b[1;36m2\u001b[0m\u001b[1;33m]\u001b[0m \u001b[1;33m=\u001b[0m \u001b[1;36m99\u001b[0m \u001b[1;31m#will raise an error\u001b[0m\u001b[1;33m\u001b[0m\u001b[1;33m\u001b[0m\u001b[0m\n\u001b[0m",
      "\u001b[1;31mTypeError\u001b[0m: 'tuple' object does not support item assignment"
     ]
    }
   ],
   "source": [
    "my_tuple[2] = 99 #will raise an error"
   ]
  },
  {
   "cell_type": "markdown",
   "id": "3077fa49",
   "metadata": {},
   "source": [
    "# 5.Describe the key features of sets and provide examples of their use"
   ]
  },
  {
   "cell_type": "markdown",
   "id": "1418b098",
   "metadata": {},
   "source": [
    "Sets in Python are a built-in data type that represents an unordered collection of unique elements. \n",
    "Key Features of Sets:\n",
    "Unordered: Sets do not maintain any order of elements. The elements are stored in a way that optimizes for membership testing and set operations rather than the order of elements.\n",
    "\n",
    "Unique Elements: Sets automatically enforce uniqueness, so duplicate elements are not allowed. If you try to add a duplicate element, it will not be added to the set.\n",
    "\n",
    "Mutable: Sets are mutable, meaning you can add or remove elements after the set has been created.\n",
    "\n",
    "Dynamic Size: Sets can grow and shrink in size as elements are added or removed.\n",
    "No Indexing: Since sets are unordered, they do not support indexing, slicing, or other sequence-like behavior. Elements are accessed by value rather than position.\n",
    "\n",
    "Set Operations: Sets support mathematical operations like union, intersection, difference, and symmetric difference.\n"
   ]
  },
  {
   "cell_type": "markdown",
   "id": "c2aaf802",
   "metadata": {},
   "source": [
    "Creating Sets:\n",
    "You can create a set using curly braces {} or the set() constructor. Note that you cannot create a set with mutable elements like lists or dictionaries.\n",
    "my_set = {1, 2, 3, 4}\n",
    "You can add elements to a set using the add() method and remove elements using the remove(), discard(), or pop() methods.\n",
    "\n"
   ]
  },
  {
   "cell_type": "code",
   "execution_count": 25,
   "id": "c2436ebe",
   "metadata": {},
   "outputs": [
    {
     "name": "stdout",
     "output_type": "stream",
     "text": [
      "{1, 2, 3, 4}\n"
     ]
    }
   ],
   "source": [
    "my_set = {1, 2, 3}\n",
    "my_set.add(4)\n",
    "print(my_set)"
   ]
  },
  {
   "cell_type": "code",
   "execution_count": 26,
   "id": "566a8b1c",
   "metadata": {},
   "outputs": [
    {
     "name": "stdout",
     "output_type": "stream",
     "text": [
      "{1, 3, 4}\n"
     ]
    }
   ],
   "source": [
    "my_set.remove(2)\n",
    "print(my_set)"
   ]
  },
  {
   "cell_type": "code",
   "execution_count": 27,
   "id": "332d5062",
   "metadata": {},
   "outputs": [
    {
     "name": "stdout",
     "output_type": "stream",
     "text": [
      "True\n",
      "False\n"
     ]
    }
   ],
   "source": [
    "my_set = {1, 2, 3, 4, 5}\n",
    "print(3 in my_set)\n",
    "print(6 in my_set)"
   ]
  },
  {
   "cell_type": "markdown",
   "id": "d23c67c6",
   "metadata": {},
   "source": [
    "# 6.Discuss the use cases of tuples and sets in Python programming"
   ]
  },
  {
   "cell_type": "markdown",
   "id": "7ca14805",
   "metadata": {},
   "source": [
    "Tuples and sets are fundamental data structures in Python\n",
    "Use Cases of Tuples:\n",
    "Tuples are immutable, which makes them suitable for storing fixed collections of items. This immutability ensures that the data cannot be modified after its creation\n",
    "configuration = (1920, 1080, 'Full HD')\n",
    "Use case of Sets:\n",
    "Sets provide efficient membership testing due to their underlying hash table implementation. This is useful when you need to check whether an item is present in a collection quickly.\n",
    "allowed_users = {'alice', 'bob', 'carol'}\n",
    "if 'bob' in allowed_users:\n",
    "    print('Access granted')\n",
    "    \n",
    "    \n"
   ]
  },
  {
   "cell_type": "code",
   "execution_count": 28,
   "id": "86c675c4",
   "metadata": {},
   "outputs": [
    {
     "name": "stdout",
     "output_type": "stream",
     "text": [
      "Access granted\n"
     ]
    }
   ],
   "source": [
    "#sets\n",
    "allowed_users = {'alice', 'bob', 'carol'}\n",
    "if 'bob' in allowed_users: print('Access granted')"
   ]
  },
  {
   "cell_type": "code",
   "execution_count": 29,
   "id": "f05d2877",
   "metadata": {},
   "outputs": [
    {
     "name": "stdout",
     "output_type": "stream",
     "text": [
      "(1920, 1080, 'Full HD')\n"
     ]
    }
   ],
   "source": [
    "#tuples\n",
    "configuration = (1920, 1080, 'Full HD')\n",
    "print(configuration)\n"
   ]
  },
  {
   "cell_type": "code",
   "execution_count": 30,
   "id": "0884ae09",
   "metadata": {},
   "outputs": [
    {
     "name": "stdout",
     "output_type": "stream",
     "text": [
      "{1, 2, 3, 4, 5}\n"
     ]
    }
   ],
   "source": [
    "numbers = [1, 2, 2, 3, 4, 4, 5]\n",
    "unique_numbers = set(numbers)\n",
    "print(unique_numbers)"
   ]
  },
  {
   "cell_type": "code",
   "execution_count": 31,
   "id": "2e37da52",
   "metadata": {},
   "outputs": [
    {
     "name": "stdout",
     "output_type": "stream",
     "text": [
      "{'apple', 'cherry'}\n"
     ]
    }
   ],
   "source": [
    "items = {'apple', 'banana', 'cherry'}\n",
    "items.discard('banana')  \n",
    "print(items)"
   ]
  },
  {
   "cell_type": "markdown",
   "id": "4073fbfa",
   "metadata": {},
   "source": [
    "# 7.Describe how to add, modify, and delete items in a dictionary with examples"
   ]
  },
  {
   "cell_type": "markdown",
   "id": "412a8d2b",
   "metadata": {},
   "source": [
    "Dictionaries in Python are versatile data structures that store key-value pairs. They are mutable, meaning you can add, modify, and delete items after the dictionary has been created\n",
    "Adding Items:\n",
    "You can add items to a dictionary by assigning a value to a new key. If the key does not already exist, the key-value pair is added to the dictionary.\n",
    "Modifying Items:\n",
    "To modify an existing item in a dictionary, you simply assign a new value to an existing key.\n",
    "\n",
    "You can delete items from a dictionary using several methods:\n",
    "\n",
    "del Statement: Removes a key-value pair by key.\n",
    "pop() Method: Removes and returns a value associated with a key.\n",
    "popitem() Method: Removes and returns the last key-value pair .\n",
    "clear() Method: Removes all items from the dictionary.\n"
   ]
  },
  {
   "cell_type": "code",
   "execution_count": 33,
   "id": "409cac03",
   "metadata": {},
   "outputs": [
    {
     "name": "stdout",
     "output_type": "stream",
     "text": [
      "{'name': 'Alice', 'age': 30, 'city': 'New York'}\n"
     ]
    }
   ],
   "source": [
    "#adding item\n",
    "my_dict = {'name': 'Alice', 'age': 30}\n",
    "my_dict['city'] = 'New York'\n",
    "print(my_dict)"
   ]
  },
  {
   "cell_type": "code",
   "execution_count": 34,
   "id": "c0962a3c",
   "metadata": {},
   "outputs": [
    {
     "name": "stdout",
     "output_type": "stream",
     "text": [
      "{'name': 'Alice', 'age': 31, 'city': 'New York'}\n"
     ]
    }
   ],
   "source": [
    "#modifying item\n",
    "my_dict = {'name': 'Alice', 'age': 30, 'city': 'New York'}\n",
    "my_dict['age'] = 31\n",
    "print(my_dict)\n"
   ]
  },
  {
   "cell_type": "code",
   "execution_count": 36,
   "id": "ab8b7e83",
   "metadata": {},
   "outputs": [
    {
     "name": "stdout",
     "output_type": "stream",
     "text": [
      "{'name': 'Alice', 'age': 31}\n",
      "('name', 'Alice')\n"
     ]
    }
   ],
   "source": [
    "#deleting items:\n",
    "my_dict = {'name': 'Alice', 'age': 31, 'city': 'San Francisco'}\n",
    "del my_dict['city']\n",
    "print(my_dict)\n",
    "age = my_dict.pop('age')\n",
    "last_item = my_dict.popitem()\n",
    "print(last_item)"
   ]
  },
  {
   "cell_type": "code",
   "execution_count": 37,
   "id": "797ed423",
   "metadata": {},
   "outputs": [
    {
     "name": "stdout",
     "output_type": "stream",
     "text": [
      "{}\n"
     ]
    }
   ],
   "source": [
    "my_dict = {'name': 'Alice', 'age': 31, 'city': 'San Francisco'}\n",
    "my_dict.clear()\n",
    "print(my_dict)"
   ]
  },
  {
   "cell_type": "markdown",
   "id": "86ee9dfa",
   "metadata": {},
   "source": [
    "# 8.Discuss the importance of dictionary keys being immutable and provide examples."
   ]
  },
  {
   "cell_type": "markdown",
   "id": "569fdc70",
   "metadata": {},
   "source": [
    "In Python, dictionary keys must be immutable. This requirement is crucial for ensuring that dictionary operations are reliable and efficient. \n",
    "\n",
    "Python supports several immutable types that can be used as dictionary keys, such as strings, numbers."
   ]
  },
  {
   "cell_type": "code",
   "execution_count": 38,
   "id": "e6f20aef",
   "metadata": {},
   "outputs": [
    {
     "name": "stdout",
     "output_type": "stream",
     "text": [
      "1\n",
      "one\n",
      "point1\n"
     ]
    }
   ],
   "source": [
    "my_dict = {'apple': 1, 'banana': 2}\n",
    "print(my_dict['apple']) \n",
    "my_dict = {1: 'one', 2: 'two'}\n",
    "print(my_dict[1])\n",
    "my_dict = {(1, 2): 'point1', (3, 4): 'point2'}\n",
    "print(my_dict[(1, 2)])"
   ]
  },
  {
   "cell_type": "code",
   "execution_count": 39,
   "id": "9d4c4daf",
   "metadata": {},
   "outputs": [
    {
     "name": "stdout",
     "output_type": "stream",
     "text": [
      "updated_location1\n"
     ]
    }
   ],
   "source": [
    "my_dict = {('x', 'y'): 'location1', ('a', 'b'): 'location2'}\n",
    "my_dict[('x', 'y')] = 'updated_location1'\n",
    "print(my_dict[('x', 'y')])"
   ]
  },
  {
   "cell_type": "code",
   "execution_count": null,
   "id": "438e1f19",
   "metadata": {},
   "outputs": [],
   "source": []
  }
 ],
 "metadata": {
  "kernelspec": {
   "display_name": "Python 3 (ipykernel)",
   "language": "python",
   "name": "python3"
  },
  "language_info": {
   "codemirror_mode": {
    "name": "ipython",
    "version": 3
   },
   "file_extension": ".py",
   "mimetype": "text/x-python",
   "name": "python",
   "nbconvert_exporter": "python",
   "pygments_lexer": "ipython3",
   "version": "3.9.13"
  }
 },
 "nbformat": 4,
 "nbformat_minor": 5
}
